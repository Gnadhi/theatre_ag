{
 "cells": [
  {
   "cell_type": "code",
   "execution_count": 2,
   "metadata": {},
   "outputs": [],
   "source": [
    "from theatre_ag import Cast, Episode, SynchronizingClock, TaskQueueActor, default_cost"
   ]
  },
  {
   "cell_type": "code",
   "execution_count": 3,
   "metadata": {},
   "outputs": [],
   "source": [
    "clock = SynchronizingClock(max_ticks=100)"
   ]
  },
  {
   "cell_type": "code",
   "execution_count": 4,
   "metadata": {},
   "outputs": [],
   "source": [
    "\n",
    "actor = TaskQueueActor(\"Alice\", clock)\n",
    "\n",
    "cast = Cast()\n",
    "cast.add_member(actor)"
   ]
  },
  {
   "cell_type": "code",
   "execution_count": 5,
   "metadata": {},
   "outputs": [],
   "source": [
    "class Hands(object): \n",
    "    def __init__(self):\n",
    "        self.clean = False\n",
    "        self.soaped = False"
   ]
  },
  {
   "cell_type": "code",
   "execution_count": 6,
   "metadata": {},
   "outputs": [],
   "source": [
    "class WashWorkflow(object):\n",
    "\n",
    "    is_workflow = True\n",
    "\n",
    "    def __init__(self, washable):\n",
    "        self.washable = washable\n",
    "\n",
    "    @default_cost(1)\n",
    "    def add_soap(self):\n",
    "        self.washable.soaped = True\n",
    "\n",
    "    @default_cost(1)\n",
    "    def rinse(self):\n",
    "        self.washable.soaped = False\n",
    "\n",
    "    @default_cost(1)\n",
    "    def scrub(self):\n",
    "        if self.washable.soaped:\n",
    "            self.washable.clean = True\n",
    "\n",
    "    def wash(self):\n",
    "        self.add_soap()\n",
    "        self.scrub()\n",
    "        self.rinse()"
   ]
  },
  {
   "cell_type": "code",
   "execution_count": 7,
   "metadata": {},
   "outputs": [],
   "source": [
    "class WashHandsDirection(object):\n",
    "\n",
    "    def apply(self, cast):\n",
    "        hands = Hands()\n",
    "        wash_workflow = WashWorkflow(hands)\n",
    "        list(cast)[0].allocate_task(wash_workflow.wash)\n",
    "        list(cast)[0].allocate_task(wash_workflow.wash)\n",
    "        list(cast)[0].allocate_task(wash_workflow.wash)"
   ]
  },
  {
   "cell_type": "code",
   "execution_count": 8,
   "metadata": {},
   "outputs": [],
   "source": [
    "direction = WashHandsDirection()\n",
    "episode = Episode(clock, cast, direction)\n",
    "episode.perform()"
   ]
  },
  {
   "cell_type": "code",
   "execution_count": 9,
   "metadata": {},
   "outputs": [
    {
     "name": "stdout",
     "output_type": "stream",
     "text": [
      "[wash()[0->3], wash()[3->6], wash()[6->9]]\n"
     ]
    }
   ],
   "source": [
    "print(actor.task_history)"
   ]
  },
  {
   "cell_type": "code",
   "execution_count": 10,
   "metadata": {},
   "outputs": [
    {
     "name": "stdout",
     "output_type": "stream",
     "text": [
      "[add_soap()[0->1], scrub()[1->2], rinse()[2->3]]\n"
     ]
    }
   ],
   "source": [
    "print(actor.task_history[0].sub_tasks)"
   ]
  },
  {
   "cell_type": "code",
   "execution_count": null,
   "metadata": {},
   "outputs": [],
   "source": []
  },
  {
   "cell_type": "markdown",
   "metadata": {},
   "source": [
    "Clock - all activity in a"
   ]
  }
 ],
 "metadata": {
  "interpreter": {
   "hash": "7ee1dcd6b6b21a07e2b3680c4bc0a34e28a4901c68c648e31cf4b379b1c5eeaf"
  },
  "kernelspec": {
   "display_name": "Python 3.10.0 64-bit",
   "name": "python3"
  },
  "language_info": {
   "codemirror_mode": {
    "name": "ipython",
    "version": 3
   },
   "file_extension": ".py",
   "mimetype": "text/x-python",
   "name": "python",
   "nbconvert_exporter": "python",
   "pygments_lexer": "ipython3",
   "version": "3.10.0"
  },
  "orig_nbformat": 4
 },
 "nbformat": 4,
 "nbformat_minor": 2
}
