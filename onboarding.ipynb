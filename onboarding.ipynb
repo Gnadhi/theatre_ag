{
 "cells": [
  {
   "cell_type": "code",
   "execution_count": 27,
   "metadata": {},
   "outputs": [],
   "source": [
    "from theatre_ag import Cast, Episode, SynchronizingClock, TaskQueueActor, default_cost"
   ]
  },
  {
   "cell_type": "code",
   "execution_count": 28,
   "metadata": {},
   "outputs": [],
   "source": [
    "clock = SynchronizingClock(max_ticks=100)"
   ]
  },
  {
   "cell_type": "code",
   "execution_count": 29,
   "metadata": {},
   "outputs": [],
   "source": [
    "customer = TaskQueueActor(\"Customer\", clock)\n",
    "\n",
    "cast = Cast()\n",
    "cast.add_member(customer) "
   ]
  },
  {
   "cell_type": "code",
   "execution_count": 30,
   "metadata": {},
   "outputs": [],
   "source": [
    "\n",
    "class Customer(object):\n",
    "\n",
    "    def __init__(self): \n",
    "        # customer data provided a score of how much data a certain onboarding method allows the collection of the higher the more \n",
    "        # data the company gets to work with but the more resistance the customer has to onboarding \n",
    "        self.customer_data = 0  "
   ]
  },
  {
   "cell_type": "code",
   "execution_count": 31,
   "metadata": {},
   "outputs": [],
   "source": [
    "class OnboardingWorkflow(object): \n",
    "    \n",
    "    is_workflow = True \n",
    "\n",
    "    def __init__(self, customer): \n",
    "        self.customer = customer\n",
    "\n",
    "    @default_cost(3)\n",
    "    def display_value_propositions(self): \n",
    "        pass\n",
    "\n",
    "    @default_cost(1)\n",
    "    def provide_email(self): \n",
    "        pass\n",
    "    \n",
    "    @default_cost(1)\n",
    "    def provide_password(self): \n",
    "        pass \n",
    "\n",
    "    @default_cost(2)\n",
    "    def confirm_email(self): \n",
    "        self.customer.customer_data += 1\n",
    "\n",
    "    @default_cost(3)\n",
    "    def provide_prefrances(self): \n",
    "        self.customer.customer_data += 3\n",
    "    \n",
    "\n",
    "    def onboard(self):\n",
    "        self.display_value_propositions()\n",
    "        self.provide_email()\n",
    "        self.provide_password()\n",
    "        self.confirm_email()\n",
    "        self.provide_prefrances()\n"
   ]
  },
  {
   "cell_type": "code",
   "execution_count": 32,
   "metadata": {},
   "outputs": [],
   "source": [
    "class OnboardingDirection(object):\n",
    "\n",
    "    def apply(self, cast):\n",
    "        customer = Customer()\n",
    "        onboarding_workflow = OnboardingWorkflow(customer)\n",
    "        list(cast)[0].allocate_task(onboarding_workflow.onboard)"
   ]
  },
  {
   "cell_type": "code",
   "execution_count": 33,
   "metadata": {},
   "outputs": [],
   "source": [
    "direction = OnboardingDirection()\n",
    "episode = Episode(clock, cast, direction)\n",
    "episode.perform()"
   ]
  },
  {
   "cell_type": "code",
   "execution_count": 34,
   "metadata": {},
   "outputs": [
    {
     "name": "stdout",
     "output_type": "stream",
     "text": [
      "[onboard()[0->10]]\n"
     ]
    }
   ],
   "source": [
    "print(customer.task_history)"
   ]
  },
  {
   "cell_type": "code",
   "execution_count": 36,
   "metadata": {},
   "outputs": [
    {
     "name": "stdout",
     "output_type": "stream",
     "text": [
      "[display_value_propositions()[0->3], provide_email()[3->4], provide_password()[4->5], confirm_email()[5->7], provide_prefrances()[7->10]]\n"
     ]
    }
   ],
   "source": [
    "print(customer.task_history[0].sub_tasks)"
   ]
  }
 ],
 "metadata": {
  "interpreter": {
   "hash": "7ee1dcd6b6b21a07e2b3680c4bc0a34e28a4901c68c648e31cf4b379b1c5eeaf"
  },
  "kernelspec": {
   "display_name": "Python 3.10.0 64-bit",
   "name": "python3"
  },
  "language_info": {
   "codemirror_mode": {
    "name": "ipython",
    "version": 3
   },
   "file_extension": ".py",
   "mimetype": "text/x-python",
   "name": "python",
   "nbconvert_exporter": "python",
   "pygments_lexer": "ipython3",
   "version": "3.10.0"
  },
  "orig_nbformat": 4
 },
 "nbformat": 4,
 "nbformat_minor": 2
}
